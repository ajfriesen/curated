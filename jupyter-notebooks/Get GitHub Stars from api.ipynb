{
 "cells": [
  {
   "cell_type": "markdown",
   "id": "9bc04a43",
   "metadata": {},
   "source": [
    "# Attempt to get github stars\n",
    "\n",
    "1. get the github link from model\n",
    "2. seperte into repo and owner\n",
    "3. get github stars"
   ]
  },
  {
   "cell_type": "code",
   "execution_count": 50,
   "id": "a113d0d6",
   "metadata": {},
   "outputs": [
    {
     "name": "stdout",
     "output_type": "stream",
     "text": [
      "Home Assistant\n",
      "https://github.com/home-assistant/operating-system\n"
     ]
    }
   ],
   "source": [
    "from django.db.models import Model\n",
    "from urllib.parse import urlparse, urlsplit\n",
    "import os.path\n",
    "\n",
    "obj = AppPage.objects.first()\n",
    "print(obj)\n",
    "\n",
    "field_object = AppPage._meta.get_field('github_link')\n",
    "field_value = field_object.value_from_object(obj)\n",
    "print(field_value)\n",
    "\n",
    "\n",
    "\n"
   ]
  },
  {
   "cell_type": "code",
   "execution_count": 51,
   "id": "1ed547dc",
   "metadata": {},
   "outputs": [
    {
     "name": "stdout",
     "output_type": "stream",
     "text": [
      "https://github.com/home-assistant/operating-system\n"
     ]
    }
   ],
   "source": [
    "link = AppPage._meta.get_field('github_link').value_from_object(obj)\n",
    "print(link)\n"
   ]
  },
  {
   "cell_type": "code",
   "execution_count": 68,
   "id": "f4633a6f",
   "metadata": {},
   "outputs": [
    {
     "name": "stdout",
     "output_type": "stream",
     "text": [
      "ParseResult(scheme='https', netloc='github.com', path='/home-assistant/operating-system', params='', query='', fragment='')\n",
      "SplitResult(scheme='https', netloc='github.com', path='/home-assistant/operating-system', query='', fragment='')\n",
      "('/home-assistant', 'operating-system')\n",
      "home-assistant\n",
      "operating-system\n"
     ]
    }
   ],
   "source": [
    "url_obj = urlparse(link)\n",
    "print(url_obj)\n",
    "\n",
    "url_obj_split = urlsplit(link)\n",
    "print(url_obj_split)\n",
    "\n",
    "\n",
    "path_list = os.path.split(url_obj.path)\n",
    "\n",
    "print(path_list)\n",
    "\n",
    "\n",
    "repo_owner = path_list[0].replace('/','')\n",
    "repo_name = path_list[1]\n",
    "print(repo_owner)\n",
    "print(repo_name)\n",
    "\n",
    "\n"
   ]
  },
  {
   "cell_type": "code",
   "execution_count": 84,
   "id": "402e7abc",
   "metadata": {},
   "outputs": [],
   "source": [
    "import github\n",
    "\n",
    "def get_github_stars(repo_name, repo_owner):\n",
    "    \n",
    "    print(repo_name)\n",
    "    client = await github.GHClient()\n",
    "    \n",
    "    repo = client.get_repo(\n",
    "        owner=repo_owner,\n",
    "        repo=repo_name,\n",
    "    )\n",
    "    \n",
    "    print (repo.stargazers_count)\n",
    "    "
   ]
  },
  {
   "cell_type": "code",
   "execution_count": 85,
   "id": "a065976c",
   "metadata": {
    "scrolled": true
   },
   "outputs": [
    {
     "name": "stdout",
     "output_type": "stream",
     "text": [
      "operating-system\n"
     ]
    },
    {
     "ename": "TypeError",
     "evalue": "GHClient.get_repo() got an unexpected keyword argument 'repo_name'",
     "output_type": "error",
     "traceback": [
      "\u001b[0;31m---------------------------------------------------------------------------\u001b[0m",
      "\u001b[0;31mTypeError\u001b[0m                                 Traceback (most recent call last)",
      "Input \u001b[0;32mIn [85]\u001b[0m, in \u001b[0;36m<cell line: 1>\u001b[0;34m()\u001b[0m\n\u001b[0;32m----> 1\u001b[0m \u001b[43mget_github_stars\u001b[49m\u001b[43m(\u001b[49m\u001b[43mrepo_name\u001b[49m\u001b[43m,\u001b[49m\u001b[43m \u001b[49m\u001b[43mrepo_owner\u001b[49m\u001b[43m)\u001b[49m\n",
      "Input \u001b[0;32mIn [84]\u001b[0m, in \u001b[0;36mget_github_stars\u001b[0;34m(repo_name, repo_owner)\u001b[0m\n\u001b[1;32m      5\u001b[0m \u001b[38;5;28mprint\u001b[39m(repo_name)\n\u001b[1;32m      6\u001b[0m client \u001b[38;5;241m=\u001b[39m github\u001b[38;5;241m.\u001b[39mGHClient()\n\u001b[0;32m----> 8\u001b[0m repo \u001b[38;5;241m=\u001b[39m \u001b[43mclient\u001b[49m\u001b[38;5;241;43m.\u001b[39;49m\u001b[43mget_repo\u001b[49m\u001b[43m(\u001b[49m\n\u001b[1;32m      9\u001b[0m \u001b[43m    \u001b[49m\u001b[43mowner\u001b[49m\u001b[38;5;241;43m=\u001b[39;49m\u001b[43mrepo_owner\u001b[49m\u001b[43m,\u001b[49m\n\u001b[1;32m     10\u001b[0m \u001b[43m    \u001b[49m\u001b[43mrepo_name\u001b[49m\u001b[38;5;241;43m=\u001b[39;49m\u001b[43mrepo_name\u001b[49m\u001b[43m,\u001b[49m\n\u001b[1;32m     11\u001b[0m \u001b[43m\u001b[49m\u001b[43m)\u001b[49m\n\u001b[1;32m     13\u001b[0m \u001b[38;5;28mprint\u001b[39m (repo\u001b[38;5;241m.\u001b[39mstargazers_count)\n",
      "\u001b[0;31mTypeError\u001b[0m: GHClient.get_repo() got an unexpected keyword argument 'repo_name'"
     ]
    }
   ],
   "source": [
    "get_github_stars(repo_name, repo_owner)\n"
   ]
  },
  {
   "cell_type": "markdown",
   "id": "8d7d4f64",
   "metadata": {},
   "source": [
    "# Testing github api client"
   ]
  },
  {
   "cell_type": "code",
   "execution_count": 92,
   "id": "db7261dc",
   "metadata": {},
   "outputs": [
    {
     "name": "stdout",
     "output_type": "stream",
     "text": [
      "<Repository id: 115992009, name: 'operating-system', owner: <PartialUser login: 'home-assistant', id: 13844975, site_admin: False>\n",
      "2490\n"
     ]
    }
   ],
   "source": [
    "import asyncio\n",
    "client = await github.GHClient()\n",
    "\n",
    "obj = await client.get_repo(\n",
    "    repo='operating-system',\n",
    "    owner='home-assistant'\n",
    "    )\n",
    "print(obj)\n",
    "print(obj.stargazers_count)\n"
   ]
  },
  {
   "cell_type": "code",
   "execution_count": null,
   "id": "06ab60a5",
   "metadata": {},
   "outputs": [],
   "source": []
  }
 ],
 "metadata": {
  "kernelspec": {
   "display_name": "Django Shell-Plus",
   "language": "python",
   "name": "django_extensions"
  },
  "language_info": {
   "codemirror_mode": {
    "name": "ipython",
    "version": 3
   },
   "file_extension": ".py",
   "mimetype": "text/x-python",
   "name": "python",
   "nbconvert_exporter": "python",
   "pygments_lexer": "ipython3",
   "version": "3.10.5"
  }
 },
 "nbformat": 4,
 "nbformat_minor": 5
}
